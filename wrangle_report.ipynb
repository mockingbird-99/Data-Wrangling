{
 "cells": [
  {
   "cell_type": "markdown",
   "metadata": {},
   "source": [
    "# PROJECT 2: DATA WRANGLING – WeRateDogs\n",
    "In this data wrangling project, I gathered a variety of data from 3 different sources, assessed the data quality and tidiness, and analyzed the data to produce visualizations. The data set that was wrangled in this project was the twitter tweet archive of the twitter user called @dog_rates, popularly known as WeRateDogs. This twitter account rates dogs and adds comments about the dogs. The data archive contains data on tweets about dogs. \n",
    "\n",
    "I had to gather the data from three different sources as all the data was readily available in one location. The first data set was obtained by Udacity and provided. The second data set was obtained from a link that was provided and programmatically downloaded. The third data was had to be obtained from the twitter API. This process required some API keys provided by twitter to developer accounts. I created a twitter developer account and obtained some API Keys. However, there were some unforeseen challenges, and my queries kept failing. I therefore accessed the data set which was provided in the Udacity classroom for such issues.\n",
    "\n",
    "The three data sets namely `twitter_archive_enhanced`, `image_predictions`, and `tweet_json`\n",
    "After gathering the data, I had assessed the data both visually and programmatically and recognized the following quality and tidiness issues:\n",
    "QUALITY:\n",
    "1.\tTweets in twitter_archive_enhanced have retweets. i.e., duplicates\n",
    "2.\tTweets in twitter_archive_enhanced have replies. i.e., duplicates\n",
    "3.\tMissing values in \"in_reply_to_status\",\"in_reply_to_user_id\", \"retweeted_status_id\", \"retweeted_status_user_id\", \"retweeted_status_timestamp\" columns of twitter_archive_enhanced\n",
    "4.\tMissing or wrong values in name column of twitter_archive_enhanced. (None, the, quite. such, etc)\n",
    "5.\tMixed cases for p1, p2 and p3 (Upper and Lower cases) in image_predictions\n",
    "6.\tNull values in expanded_urls column in twitter_archive_enhanced\n",
    "7.\ttimestamp in twitter_archive_enhanced is of object datatype instead of datatype\n",
    "8.\ttweet_id in twitter_archive_enhanced is int data type instead of string data type\n",
    "9.\ttweet_id in image_predictions is int data type instead of string data type\n",
    "10.\ttweet_id in tweet_json is int data type instead of string data type\n",
    "  \n",
    "TIDINESS:\n",
    "1.\tRating denominator is not needed\n",
    "2.\tThe four dog types can be combines into a single column\n",
    "3.\tAll three data sets should be merged into 1\n",
    "\n"
   ]
  },
  {
   "cell_type": "code",
   "execution_count": null,
   "metadata": {},
   "outputs": [],
   "source": []
  }
 ],
 "metadata": {
  "kernelspec": {
   "display_name": "Python 3",
   "language": "python",
   "name": "python3"
  },
  "language_info": {
   "codemirror_mode": {
    "name": "ipython",
    "version": 3
   },
   "file_extension": ".py",
   "mimetype": "text/x-python",
   "name": "python",
   "nbconvert_exporter": "python",
   "pygments_lexer": "ipython3",
   "version": "3.6.3"
  }
 },
 "nbformat": 4,
 "nbformat_minor": 2
}
